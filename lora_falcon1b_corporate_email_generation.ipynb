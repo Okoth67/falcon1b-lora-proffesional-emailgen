{
 "cells": [
  {
   "cell_type": "code",
   "execution_count": 1,
   "id": "aa6d176f-ac7d-4351-8832-47b44145e60a",
   "metadata": {},
   "outputs": [],
   "source": [
    "!pip install -q transformers datasets peft accelerate bitsandbytes"
   ]
  },
  {
   "cell_type": "code",
   "execution_count": 2,
   "id": "6dd3c95a-a2e5-463d-a51d-f9b1a6d5bfd8",
   "metadata": {},
   "outputs": [],
   "source": [
    "#importing the required libs\n",
    "import json\n",
    "from datasets  import load_dataset"
   ]
  },
  {
   "cell_type": "code",
   "execution_count": 3,
   "id": "a2343111-b0c6-4c60-baf6-6d3d7a6cdbed",
   "metadata": {},
   "outputs": [],
   "source": [
    "#loading the dataset\n",
    "data_path = r\"C:\\Users\\Admin\\Downloads\\corporate_email_alpaca.json\"\n",
    "dataset = load_dataset('json', data_files = {'train': data_path})"
   ]
  },
  {
   "cell_type": "code",
   "execution_count": 4,
   "id": "23f7611c-4532-4085-b175-4c509719a3fa",
   "metadata": {},
   "outputs": [],
   "source": [
    "#loading the model and the tokenizer\n",
    "from transformers import AutoModelForCausalLM, AutoTokenizer\n",
    "\n",
    "model_name = \"tiiuae/falcon-rw-1b\"\n",
    "\n",
    "tokenizer = AutoTokenizer.from_pretrained(model_name, trust_remote_code=True)\n",
    "tokenizer.pad_token = tokenizer.eos_token\n",
    "\n",
    "model = AutoModelForCausalLM.from_pretrained(\n",
    "    model_name,\n",
    "    device_map=\"cpu\",\n",
    "    trust_remote_code=True\n",
    ")"
   ]
  },
  {
   "cell_type": "code",
   "execution_count": 5,
   "id": "9b5c634e-da77-41ee-ae89-ede6682d7b13",
   "metadata": {},
   "outputs": [
    {
     "name": "stderr",
     "output_type": "stream",
     "text": [
      "The installed version of bitsandbytes was compiled without GPU support. 8-bit optimizers and GPU quantization are unavailable.\n"
     ]
    },
    {
     "name": "stdout",
     "output_type": "stream",
     "text": [
      "trainable params: 1,572,864 || all params: 1,313,198,080 || trainable%: 0.1198\n"
     ]
    }
   ],
   "source": [
    "#applying LoRA Adapters\n",
    "from peft import LoraConfig, get_peft_model, TaskType\n",
    "\n",
    "lora_config = LoraConfig(\n",
    "    r=8,\n",
    "    lora_alpha=16,\n",
    "    lora_dropout=0.1,\n",
    "    bias=\"none\",\n",
    "    task_type=TaskType.CAUSAL_LM\n",
    ")\n",
    "\n",
    "model = get_peft_model(model, lora_config)\n",
    "model.print_trainable_parameters()"
   ]
  },
  {
   "cell_type": "code",
   "execution_count": 6,
   "id": "220f4a7a-23ba-4959-97e3-00fdfc0b797c",
   "metadata": {},
   "outputs": [],
   "source": [
    "#Preprocessing, formatting and tokenization\n",
    "#instruction template\n",
    "instruction_template = \"Instruction: {}\\nInput: {}\\nOutput:\"\n",
    "\n",
    "def format_instruction(example):\n",
    "    example['text'] = instruction_template.format(example['instruction'], example['input']) + ' ' + example['output']\n",
    "    return example\n",
    "dataset = dataset.map(format_instruction)"
   ]
  },
  {
   "cell_type": "code",
   "execution_count": 7,
   "id": "25d000fb-1d9b-4c85-81fd-c7ca219ba9d2",
   "metadata": {},
   "outputs": [],
   "source": [
    "def tokenize(example):\n",
    "    return tokenizer(example[\"text\"], truncation=True, padding=\"max_length\",max_length=512)\n",
    "tokenized_dataset = dataset.map(tokenize, remove_columns=dataset[\"train\"].column_names)"
   ]
  },
  {
   "cell_type": "code",
   "execution_count": 8,
   "id": "da298279-178b-4311-b3a5-72008d6f1124",
   "metadata": {},
   "outputs": [],
   "source": [
    "#training config and data collator\n",
    "from transformers import TrainingArguments, Trainer, DataCollatorForLanguageModeling\n",
    "\n",
    "training_args = TrainingArguments(\n",
    "    output_dir=\"./falcon_lora_email_model\",\n",
    "    per_device_train_batch_size=1,\n",
    "    num_train_epochs=3,\n",
    "    logging_steps=5,\n",
    "    save_total_limit=1,\n",
    "    save_strategy=\"epoch\",\n",
    "    fp16=False,\n",
    ")\n",
    "\n",
    "data_collator = DataCollatorForLanguageModeling(tokenizer=tokenizer, mlm=False)"
   ]
  },
  {
   "cell_type": "code",
   "execution_count": 10,
   "id": "c1580c6a-0283-4cc2-ae25-ec4c24b6e8af",
   "metadata": {},
   "outputs": [
    {
     "name": "stderr",
     "output_type": "stream",
     "text": [
      "C:\\Users\\Admin\\AppData\\Local\\Temp\\ipykernel_20372\\894140440.py:2: FutureWarning: `tokenizer` is deprecated and will be removed in version 5.0.0 for `Trainer.__init__`. Use `processing_class` instead.\n",
      "  trainer = Trainer(\n",
      "No label_names provided for model class `PeftModelForCausalLM`. Since `PeftModel` hides base models input arguments, if label_names is not given, label_names can't be set automatically within `Trainer`. Note that empty label_names list will be used instead.\n"
     ]
    }
   ],
   "source": [
    "#Trainer engine\n",
    "trainer = Trainer(\n",
    "    model=model,\n",
    "    args=training_args,\n",
    "    train_dataset=tokenized_dataset[\"train\"],\n",
    "    tokenizer=tokenizer,\n",
    "    data_collator=data_collator,\n",
    ")"
   ]
  },
  {
   "cell_type": "code",
   "execution_count": 12,
   "id": "b8b6ad12-28a5-42b6-ac34-c98586fc665d",
   "metadata": {},
   "outputs": [
    {
     "name": "stderr",
     "output_type": "stream",
     "text": [
      "C:\\Users\\Admin\\miniconda3\\envs\\llm-env\\lib\\site-packages\\torch\\utils\\data\\dataloader.py:665: UserWarning: 'pin_memory' argument is set as true but no accelerator is found, then device pinned memory won't be used.\n",
      "  warnings.warn(warn_msg)\n"
     ]
    },
    {
     "data": {
      "text/html": [
       "\n",
       "    <div>\n",
       "      \n",
       "      <progress value='75' max='75' style='width:300px; height:20px; vertical-align: middle;'></progress>\n",
       "      [75/75 26:35, Epoch 3/3]\n",
       "    </div>\n",
       "    <table border=\"1\" class=\"dataframe\">\n",
       "  <thead>\n",
       " <tr style=\"text-align: left;\">\n",
       "      <th>Step</th>\n",
       "      <th>Training Loss</th>\n",
       "    </tr>\n",
       "  </thead>\n",
       "  <tbody>\n",
       "    <tr>\n",
       "      <td>5</td>\n",
       "      <td>2.502200</td>\n",
       "    </tr>\n",
       "    <tr>\n",
       "      <td>10</td>\n",
       "      <td>2.233800</td>\n",
       "    </tr>\n",
       "    <tr>\n",
       "      <td>15</td>\n",
       "      <td>2.207000</td>\n",
       "    </tr>\n",
       "    <tr>\n",
       "      <td>20</td>\n",
       "      <td>2.185600</td>\n",
       "    </tr>\n",
       "    <tr>\n",
       "      <td>25</td>\n",
       "      <td>2.083600</td>\n",
       "    </tr>\n",
       "    <tr>\n",
       "      <td>30</td>\n",
       "      <td>1.984000</td>\n",
       "    </tr>\n",
       "    <tr>\n",
       "      <td>35</td>\n",
       "      <td>1.764700</td>\n",
       "    </tr>\n",
       "    <tr>\n",
       "      <td>40</td>\n",
       "      <td>1.722800</td>\n",
       "    </tr>\n",
       "    <tr>\n",
       "      <td>45</td>\n",
       "      <td>1.585000</td>\n",
       "    </tr>\n",
       "    <tr>\n",
       "      <td>50</td>\n",
       "      <td>1.400600</td>\n",
       "    </tr>\n",
       "    <tr>\n",
       "      <td>55</td>\n",
       "      <td>1.512800</td>\n",
       "    </tr>\n",
       "    <tr>\n",
       "      <td>60</td>\n",
       "      <td>1.239600</td>\n",
       "    </tr>\n",
       "    <tr>\n",
       "      <td>65</td>\n",
       "      <td>1.350800</td>\n",
       "    </tr>\n",
       "    <tr>\n",
       "      <td>70</td>\n",
       "      <td>1.240500</td>\n",
       "    </tr>\n",
       "    <tr>\n",
       "      <td>75</td>\n",
       "      <td>1.187500</td>\n",
       "    </tr>\n",
       "  </tbody>\n",
       "</table><p>"
      ],
      "text/plain": [
       "<IPython.core.display.HTML object>"
      ]
     },
     "metadata": {},
     "output_type": "display_data"
    },
    {
     "name": "stderr",
     "output_type": "stream",
     "text": [
      "C:\\Users\\Admin\\miniconda3\\envs\\llm-env\\lib\\site-packages\\torch\\utils\\data\\dataloader.py:665: UserWarning: 'pin_memory' argument is set as true but no accelerator is found, then device pinned memory won't be used.\n",
      "  warnings.warn(warn_msg)\n",
      "C:\\Users\\Admin\\miniconda3\\envs\\llm-env\\lib\\site-packages\\torch\\utils\\data\\dataloader.py:665: UserWarning: 'pin_memory' argument is set as true but no accelerator is found, then device pinned memory won't be used.\n",
      "  warnings.warn(warn_msg)\n"
     ]
    },
    {
     "data": {
      "text/plain": [
       "TrainOutput(global_step=75, training_loss=1.7466986020406088, metrics={'train_runtime': 1611.8084, 'train_samples_per_second': 0.047, 'train_steps_per_second': 0.047, 'total_flos': 278824432435200.0, 'train_loss': 1.7466986020406088, 'epoch': 3.0})"
      ]
     },
     "execution_count": 12,
     "metadata": {},
     "output_type": "execute_result"
    }
   ],
   "source": [
    "#finetuning/training the pretrained Falcon 1B model\n",
    "trainer.train()"
   ]
  },
  {
   "cell_type": "code",
   "execution_count": 13,
   "id": "a9a300e7-6fae-4547-97b0-50a769897baa",
   "metadata": {},
   "outputs": [],
   "source": [
    "#saving the model\n",
    "model.save_pretrained(\"./falcon_lora_email_model\")"
   ]
  },
  {
   "cell_type": "code",
   "execution_count": 14,
   "id": "e4fb773e-2d30-450a-8e10-52a4706247d4",
   "metadata": {},
   "outputs": [
    {
     "data": {
      "text/plain": [
       "('./falcon_lora_email_model\\\\tokenizer_config.json',\n",
       " './falcon_lora_email_model\\\\special_tokens_map.json',\n",
       " './falcon_lora_email_model\\\\vocab.json',\n",
       " './falcon_lora_email_model\\\\merges.txt',\n",
       " './falcon_lora_email_model\\\\added_tokens.json',\n",
       " './falcon_lora_email_model\\\\tokenizer.json')"
      ]
     },
     "execution_count": 14,
     "metadata": {},
     "output_type": "execute_result"
    }
   ],
   "source": [
    "#saving the tokenizer\n",
    "tokenizer.save_pretrained(\"./falcon_lora_email_model\")"
   ]
  },
  {
   "cell_type": "code",
   "execution_count": 15,
   "id": "a9a4c385-163f-4ef9-a470-1cd7677c714f",
   "metadata": {},
   "outputs": [
    {
     "name": "stderr",
     "output_type": "stream",
     "text": [
      "Device set to use cpu\n"
     ]
    },
    {
     "name": "stdout",
     "output_type": "stream",
     "text": [
      "Instruction: Write a professional corporate email\n",
      "Input: Requesting leave for medical reasons\n",
      "Output: Attached for your review\n",
      "Notes:\n",
      "1. The email should be one that a HR representative would send to a manager requesting a manager approve his/her leave.\n",
      "2. The email should be sent from the manager’s email address (not the employee’s)\n",
      "3. The email should include the following:\n",
      "– The reason for the request\n",
      "– The date of the request\n",
      "– The anticipated date of return\n",
      "– The manager’s signature\n",
      "– The manager’s phone number and/or email address\n",
      "– The manager’s approval and/or rejection of the request\n",
      "– A note indicating that the manager’s signature is not required\n",
      "Dear [Manager Name],\n",
      "I am writing to request [reason] for [date]. I am anticipating [date] and will be [date].\n",
      "Please approve my request for [reason] for [date] and [date].\n",
      "Sincerely,\n",
      "[Your Name]\n",
      "[\n"
     ]
    }
   ],
   "source": [
    "#loading and testing the finetuned model\n",
    "from transformers import pipeline\n",
    "\n",
    "pipe = pipeline(\"text-generation\", model=model, tokenizer=tokenizer)\n",
    "\n",
    "prompt = \"Instruction: Write a professional corporate email\\nInput: Requesting leave for medical reasons\\nOutput:\"\n",
    "output = pipe(prompt, max_new_tokens=200, do_sample=True, top_k=50, temperature=0.7)\n",
    "print(output[0]['generated_text'])"
   ]
  },
  {
   "cell_type": "code",
   "execution_count": 16,
   "id": "2bc4f529-05ce-4848-b779-3422d10b2b62",
   "metadata": {},
   "outputs": [
    {
     "name": "stderr",
     "output_type": "stream",
     "text": [
      "Device set to use cpu\n"
     ]
    },
    {
     "name": "stdout",
     "output_type": "stream",
     "text": [
      "Instruction: Write a professional email\n",
      "Input: Congratulating a colleague on their recent graduation from university\n",
      "Output: On behalf of [Company Name], I am so proud of your work and achievement. You are a fantastic example of dedication and excellence, and I am delighted to congratulate you on your graduation.\n",
      "Thank you for your time, and congratulations!\n",
      "[your name]\n",
      "[your company name]\n",
      "[date]\n",
      "Dear [name],\n",
      "I want to congratulate you on your recent graduation from university!\n",
      "It is a great achievement, and I can’t wait to see what you achieve next.\n",
      "I hope you are enjoying the celebrations, and I look forward to hearing about your future plans.\n",
      "With best wishes,\n",
      "[your name]\n",
      "[your company name]\n",
      "[date]\n",
      "[signature]\n",
      "Dear [name],\n",
      "I wanted to congratulate you on your recent graduation from university!\n",
      "I am so proud of your hard work and dedication, and I am delighted to offer my congratulations.\n",
      "I hope you are enjoying the celebrations, and I look forward to\n"
     ]
    }
   ],
   "source": [
    "#testing the finetuned model\n",
    "from transformers import pipeline\n",
    "\n",
    "pipe = pipeline(\"text-generation\", model=model, tokenizer=tokenizer)\n",
    "\n",
    "prompt = \"\"\"Instruction: Write a professional email\n",
    "Input: Congratulating a colleague on their recent graduation from university\n",
    "Output:\"\"\"\n",
    "\n",
    "output = pipe(prompt, max_new_tokens=200, do_sample=True, top_k=50, temperature=0.7)\n",
    "print(output[0]['generated_text'])\n"
   ]
  },
  {
   "cell_type": "code",
   "execution_count": null,
   "id": "34e9cf1d-a018-4588-b6de-1907e4e3a12c",
   "metadata": {},
   "outputs": [],
   "source": []
  }
 ],
 "metadata": {
  "kernelspec": {
   "display_name": "Python 3 (ipykernel)",
   "language": "python",
   "name": "python3"
  },
  "language_info": {
   "codemirror_mode": {
    "name": "ipython",
    "version": 3
   },
   "file_extension": ".py",
   "mimetype": "text/x-python",
   "name": "python",
   "nbconvert_exporter": "python",
   "pygments_lexer": "ipython3",
   "version": "3.10.16"
  }
 },
 "nbformat": 4,
 "nbformat_minor": 5
}
